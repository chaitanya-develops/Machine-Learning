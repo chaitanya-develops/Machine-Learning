{
 "cells": [
  {
   "cell_type": "code",
   "execution_count": 112,
   "metadata": {},
   "outputs": [],
   "source": [
    "import numpy as np\n",
    "import pandas as pd\n",
    "import matplotlib.pyplot as plt \n",
    "%matplotlib inline"
   ]
  },
  {
   "cell_type": "code",
   "execution_count": 161,
   "metadata": {},
   "outputs": [],
   "source": [
    "OldArray = []\n",
    "NewArray = []\n",
    "aOld  = 1\n",
    "mu = 0.7\n",
    "aNew = 0\n",
    "# np.array(OldArray)\n",
    "# np.array(NewArray)"
   ]
  },
  {
   "cell_type": "code",
   "execution_count": 162,
   "metadata": {},
   "outputs": [
    {
     "name": "stdout",
     "output_type": "stream",
     "text": [
      "2.6799999999999997\n",
      "1.5376000000000003\n",
      "2.3144319999999996\n",
      "1.7861862400000004\n",
      "2.1453933567999997\n",
      "1.9011325173760003\n",
      "2.0672298881843196\n",
      "1.9542836760346627\n",
      "2.0310871002964292\n",
      "1.9788607717984281\n",
      "2.014374675177069\n",
      "1.990225220879593\n",
      "2.006646849801877\n",
      "1.9954801421347237\n",
      "2.003073503348388\n",
      "1.9979100177230962\n",
      "2.0014211879482944\n",
      "1.9990335921951599\n",
      "2.000657157307291\n",
      "1.999553133031042\n",
      "2.0003038695388913\n",
      "1.9997933687135538\n",
      "2.0001405092747833\n",
      "1.9999044536931474\n",
      "2.00006497148866\n",
      "1.9999558193877114\n",
      "2.0000300428163564\n",
      "1.9999795708848775\n",
      "2.0000138917982833\n",
      "1.9999905535771674\n",
      "2.0000064235675263\n",
      "1.9999956319740821\n",
      "2.0000029702576243\n",
      "1.9999979802248156\n",
      "2.0000013734471254\n",
      "1.9999990660559548\n",
      "2.0000006350819506\n",
      "1.9999995681442737\n",
      "2.000000293661894\n",
      "1.9999998003099122\n",
      "2.00000013578926\n",
      "1.9999999076633033\n",
      "2.0000000627889536\n",
      "1.9999999573035117\n",
      "2.000000029033612\n",
      "1.9999999802571438\n",
      "2.0000000134251423\n",
      "1.9999999908709032\n",
      "2.000000006207786\n",
      "1.9999999957787056\n",
      "2.0000000028704803\n",
      "1.9999999980480734\n",
      "2.0000000013273103\n",
      "1.999999999097429\n",
      "2.000000000613748\n",
      "1.9999999995826512\n",
      "2.000000000283797\n",
      "1.9999999998070181\n",
      "2.0000000001312275\n",
      "1.9999999999107654\n",
      "2.0000000000606795\n",
      "1.999999999958738\n",
      "2.0000000000280584\n",
      "1.9999999999809202\n",
      "2.0000000000129745\n",
      "1.9999999999911773\n",
      "2.0000000000059996\n",
      "1.9999999999959202\n",
      "2.0000000000027742\n",
      "1.9999999999981135\n",
      "2.000000000001283\n",
      "1.9999999999991276\n",
      "2.0000000000005933\n",
      "1.9999999999995965\n",
      "2.0000000000002744\n",
      "1.9999999999998135\n",
      "2.000000000000127\n",
      "1.9999999999999136\n",
      "2.0000000000000586\n",
      "1.99999999999996\n",
      "2.000000000000027\n",
      "1.9999999999999816\n",
      "2.0000000000000124\n",
      "1.9999999999999916\n",
      "2.0000000000000058\n",
      "1.999999999999996\n",
      "2.0000000000000027\n",
      "1.9999999999999982\n",
      "2.0000000000000013\n",
      "1.9999999999999991\n",
      "2.0000000000000004\n",
      "1.9999999999999998\n",
      "2.0\n",
      "This is it\n"
     ]
    }
   ],
   "source": [
    "while(True):\n",
    "    OldArray.append(aOld)\n",
    "    aNew = aOld - (mu) * (2.4 * (aOld - 2))\n",
    "    NewArray.append(aNew)\n",
    "    if aNew == aOld:\n",
    "        print(\"This is it\")\n",
    "        break\n",
    "    aOld = aNew\n",
    "    \n",
    "    print(aOld)"
   ]
  },
  {
   "cell_type": "code",
   "execution_count": 163,
   "metadata": {},
   "outputs": [],
   "source": [
    "OldNp = np.array(OldArray)"
   ]
  },
  {
   "cell_type": "code",
   "execution_count": 164,
   "metadata": {},
   "outputs": [
    {
     "data": {
      "text/plain": [
       "[2.6799999999999997,\n",
       " 1.5376000000000003,\n",
       " 2.3144319999999996,\n",
       " 1.7861862400000004,\n",
       " 2.1453933567999997,\n",
       " 1.9011325173760003,\n",
       " 2.0672298881843196,\n",
       " 1.9542836760346627,\n",
       " 2.0310871002964292,\n",
       " 1.9788607717984281,\n",
       " 2.014374675177069,\n",
       " 1.990225220879593,\n",
       " 2.006646849801877,\n",
       " 1.9954801421347237,\n",
       " 2.003073503348388,\n",
       " 1.9979100177230962,\n",
       " 2.0014211879482944,\n",
       " 1.9990335921951599,\n",
       " 2.000657157307291,\n",
       " 1.999553133031042,\n",
       " 2.0003038695388913,\n",
       " 1.9997933687135538,\n",
       " 2.0001405092747833,\n",
       " 1.9999044536931474,\n",
       " 2.00006497148866,\n",
       " 1.9999558193877114,\n",
       " 2.0000300428163564,\n",
       " 1.9999795708848775,\n",
       " 2.0000138917982833,\n",
       " 1.9999905535771674,\n",
       " 2.0000064235675263,\n",
       " 1.9999956319740821,\n",
       " 2.0000029702576243,\n",
       " 1.9999979802248156,\n",
       " 2.0000013734471254,\n",
       " 1.9999990660559548,\n",
       " 2.0000006350819506,\n",
       " 1.9999995681442737,\n",
       " 2.000000293661894,\n",
       " 1.9999998003099122,\n",
       " 2.00000013578926,\n",
       " 1.9999999076633033,\n",
       " 2.0000000627889536,\n",
       " 1.9999999573035117,\n",
       " 2.000000029033612,\n",
       " 1.9999999802571438,\n",
       " 2.0000000134251423,\n",
       " 1.9999999908709032,\n",
       " 2.000000006207786,\n",
       " 1.9999999957787056,\n",
       " 2.0000000028704803,\n",
       " 1.9999999980480734,\n",
       " 2.0000000013273103,\n",
       " 1.999999999097429,\n",
       " 2.000000000613748,\n",
       " 1.9999999995826512,\n",
       " 2.000000000283797,\n",
       " 1.9999999998070181,\n",
       " 2.0000000001312275,\n",
       " 1.9999999999107654,\n",
       " 2.0000000000606795,\n",
       " 1.999999999958738,\n",
       " 2.0000000000280584,\n",
       " 1.9999999999809202,\n",
       " 2.0000000000129745,\n",
       " 1.9999999999911773,\n",
       " 2.0000000000059996,\n",
       " 1.9999999999959202,\n",
       " 2.0000000000027742,\n",
       " 1.9999999999981135,\n",
       " 2.000000000001283,\n",
       " 1.9999999999991276,\n",
       " 2.0000000000005933,\n",
       " 1.9999999999995965,\n",
       " 2.0000000000002744,\n",
       " 1.9999999999998135,\n",
       " 2.000000000000127,\n",
       " 1.9999999999999136,\n",
       " 2.0000000000000586,\n",
       " 1.99999999999996,\n",
       " 2.000000000000027,\n",
       " 1.9999999999999816,\n",
       " 2.0000000000000124,\n",
       " 1.9999999999999916,\n",
       " 2.0000000000000058,\n",
       " 1.999999999999996,\n",
       " 2.0000000000000027,\n",
       " 1.9999999999999982,\n",
       " 2.0000000000000013,\n",
       " 1.9999999999999991,\n",
       " 2.0000000000000004,\n",
       " 1.9999999999999998,\n",
       " 2.0,\n",
       " 2.0]"
      ]
     },
     "execution_count": 164,
     "metadata": {},
     "output_type": "execute_result"
    }
   ],
   "source": [
    "(NewArray)"
   ]
  },
  {
   "cell_type": "code",
   "execution_count": 165,
   "metadata": {},
   "outputs": [],
   "source": [
    "x = np.arange(-1,5)"
   ]
  },
  {
   "cell_type": "code",
   "execution_count": 166,
   "metadata": {},
   "outputs": [
    {
     "data": {
      "text/plain": [
       "array([-1,  0,  1,  2,  3,  4])"
      ]
     },
     "execution_count": 166,
     "metadata": {},
     "output_type": "execute_result"
    }
   ],
   "source": [
    "x"
   ]
  },
  {
   "cell_type": "code",
   "execution_count": 167,
   "metadata": {},
   "outputs": [
    {
     "data": {
      "text/plain": [
       "array([14. ,  8. ,  4.4,  3.2,  4.4,  8. ])"
      ]
     },
     "execution_count": 167,
     "metadata": {},
     "output_type": "execute_result"
    }
   ],
   "source": [
    "y = 1.2 * (x-2) * (x-2) + 3.2\n",
    "y"
   ]
  },
  {
   "cell_type": "code",
   "execution_count": 168,
   "metadata": {},
   "outputs": [
    {
     "data": {
      "text/plain": [
       "array([4.4       , 3.75488   , 3.45657651, 3.31864098, 3.25485959,\n",
       "       3.22536707, 3.21172973, 3.20542383, 3.20250798, 3.20115969,\n",
       "       3.20053624, 3.20024796, 3.20011466, 3.20005302, 3.20002451,\n",
       "       3.20001134, 3.20000524, 3.20000242, 3.20000112, 3.20000052,\n",
       "       3.20000024, 3.20000011, 3.20000005, 3.20000002, 3.20000001,\n",
       "       3.20000001, 3.2       , 3.2       , 3.2       , 3.2       ,\n",
       "       3.2       , 3.2       , 3.2       , 3.2       , 3.2       ,\n",
       "       3.2       , 3.2       , 3.2       , 3.2       , 3.2       ,\n",
       "       3.2       , 3.2       , 3.2       , 3.2       , 3.2       ,\n",
       "       3.2       , 3.2       , 3.2       , 3.2       , 3.2       ,\n",
       "       3.2       , 3.2       , 3.2       , 3.2       , 3.2       ,\n",
       "       3.2       , 3.2       , 3.2       , 3.2       , 3.2       ,\n",
       "       3.2       , 3.2       , 3.2       , 3.2       , 3.2       ,\n",
       "       3.2       , 3.2       , 3.2       , 3.2       , 3.2       ,\n",
       "       3.2       , 3.2       , 3.2       , 3.2       , 3.2       ,\n",
       "       3.2       , 3.2       , 3.2       , 3.2       , 3.2       ,\n",
       "       3.2       , 3.2       , 3.2       , 3.2       , 3.2       ,\n",
       "       3.2       , 3.2       , 3.2       , 3.2       , 3.2       ,\n",
       "       3.2       , 3.2       , 3.2       , 3.2       ])"
      ]
     },
     "execution_count": 168,
     "metadata": {},
     "output_type": "execute_result"
    }
   ],
   "source": [
    "yOld = 1.2 * (OldNp-2) * (OldNp-2) + 3.2\n",
    "yOld"
   ]
  },
  {
   "cell_type": "code",
   "execution_count": 176,
   "metadata": {},
   "outputs": [
    {
     "data": {
      "text/plain": [
       "<matplotlib.legend.Legend at 0x1fadfe7f580>"
      ]
     },
     "execution_count": 176,
     "metadata": {},
     "output_type": "execute_result"
    },
    {
     "data": {
      "image/png": "[encoded data removed]",
      "text/plain": [
       "<Figure size 432x288 with 1 Axes>"
      ]
     },
     "metadata": {
      "needs_background": "light"
     },
     "output_type": "display_data"
    }
   ],
   "source": [
    "plt.plot(x,y,label = 'y = 1.2 * (x-2)^2 + 3.2')\n",
    "plt.title('My first Plot with Python')\n",
    "plt.plot(OldNp,yOld,\"go-\")\n",
    "\n",
    "# Add X and y Label\n",
    "plt.xlabel('x axis')\n",
    "plt.ylabel('y axis')\n",
    "\n",
    "# Add a grid\n",
    "plt.grid(linestyle='--')\n",
    "\n",
    "# Add a Legend\n",
    "plt.legend()"
   ]
  },
  {
   "cell_type": "code",
   "execution_count": null,
   "metadata": {},
   "outputs": [],
   "source": []
  }
 ],
 "metadata": {
  "kernelspec": {
   "display_name": "Python 3",
   "language": "python",
   "name": "python3"
  },
  "language_info": {
   "codemirror_mode": {
    "name": "ipython",
    "version": 3
   },
   "file_extension": ".py",
   "mimetype": "text/x-python",
   "name": "python",
   "nbconvert_exporter": "python",
   "pygments_lexer": "ipython3",
   "version": "3.8.5"
  }
 },
 "nbformat": 4,
 "nbformat_minor": 4
}
